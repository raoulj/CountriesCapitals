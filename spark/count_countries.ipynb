{
 "cells": [
  {
   "cell_type": "code",
   "execution_count": 28,
   "metadata": {},
   "outputs": [],
   "source": [
    "from pyspark.sql import SparkSession\n",
    "import pyspark.sql.functions as F\n",
    "from geopy.distance import geodesic\n",
    "\n",
    "spark = SparkSession.builder.getOrCreate()"
   ]
  },
  {
   "cell_type": "code",
   "execution_count": 38,
   "metadata": {},
   "outputs": [],
   "source": [
    "from pyspark.sql.types import FloatType\n",
    "\n",
    "@F.udf(returnType=FloatType())\n",
    "def geodesic_udf(a_lat, a_long, b_lat, b_long):\n",
    "    return geodesic((a_lat, a_long), (b_lat, b_long)).miles"
   ]
  },
  {
   "cell_type": "code",
   "execution_count": 52,
   "metadata": {},
   "outputs": [
    {
     "name": "stderr",
     "output_type": "stream",
     "text": [
      "[Stage 75:>                                                         (0 + 1) / 1]\r"
     ]
    },
    {
     "name": "stdout",
     "output_type": "stream",
     "text": [
      "+--------------------+----------------+--------------------+----------------+----------+\n",
      "|         CountryName|     CapitalName|         CountryName|     CapitalName|  distance|\n",
      "+--------------------+----------------+--------------------+----------------+----------+\n",
      "|           Hong Kong|             N/A|          Antarctica|             N/A|       0.0|\n",
      "|               Macau|             N/A|           Hong Kong|             N/A|       0.0|\n",
      "|               Macau|             N/A|Heard Island and ...|             N/A|       0.0|\n",
      "|US Minor Outlying...|Washington, D.C.|       United States|Washington, D.C.|       0.0|\n",
      "|Heard Island and ...|             N/A|          Antarctica|             N/A|       0.0|\n",
      "|Heard Island and ...|             N/A|           Hong Kong|             N/A|       0.0|\n",
      "|              Israel|       Jerusalem|           Palestine|       Jerusalem|       0.0|\n",
      "|               Macau|             N/A|          Antarctica|             N/A|       0.0|\n",
      "|     Northern Cyprus|   North Nicosia|              Cyprus|         Nicosia| 1.1489315|\n",
      "|               Italy|            Rome|        Vatican City|    Vatican City| 1.7187028|\n",
      "|   Republic of Congo|     Brazzaville|Democratic Republ...|        Kinshasa| 4.7228355|\n",
      "|        Sint Maarten|     Philipsburg|        Saint Martin|         Marigot| 5.0397534|\n",
      "|            Anguilla|      The Valley|        Saint Martin|         Marigot| 10.098192|\n",
      "|        Sint Maarten|     Philipsburg|            Anguilla|      The Valley| 13.798489|\n",
      "|   Wallis and Futuna|        Mata-Utu|               Samoa|            Apia| 14.467966|\n",
      "|        Sint Maarten|     Philipsburg|    Saint Barthelemy|        Gustavia|15.1564455|\n",
      "|    Saint Barthelemy|        Gustavia|        Saint Martin|         Marigot|  20.09648|\n",
      "|   US Virgin Islands|Charlotte Amalie|British Virgin Is...|       Road Town| 21.292654|\n",
      "|    Saint Barthelemy|        Gustavia|            Anguilla|      The Valley|  26.43218|\n",
      "|              Jersey|    Saint Helier|            Guernsey|Saint Peter Port| 26.886087|\n",
      "|            Slovakia|      Bratislava|             Austria|          Vienna| 34.831352|\n",
      "|          Montserrat|        Plymouth| Antigua and Barbuda|    Saint John's|  37.55193|\n",
      "|Saint Kitts and N...|      Basseterre|    Saint Barthelemy|        Gustavia|  41.06885|\n",
      "|              Jordan|           Amman|              Israel|       Jerusalem|  43.05821|\n",
      "|              Jordan|           Amman|           Palestine|       Jerusalem|  43.05821|\n",
      "|           Macedonia|          Skopje|              Kosovo|        Pristina|  47.99817|\n",
      "|             Finland|        Helsinki|             Estonia|         Tallinn| 51.325333|\n",
      "|               Syria|        Damascus|             Lebanon|          Beirut| 52.566483|\n",
      "|Saint Kitts and N...|      Basseterre|          Montserrat|        Plymouth| 52.885735|\n",
      "|        Sint Maarten|     Philipsburg|Saint Kitts and N...|      Basseterre|  53.52581|\n",
      "|Saint Kitts and N...|      Basseterre|        Saint Martin|         Marigot|  58.37276|\n",
      "|Saint Kitts and N...|      Basseterre| Antigua and Barbuda|    Saint John's| 58.652172|\n",
      "|Saint Vincent and...|       Kingstown|         Saint Lucia|        Castries| 61.335556|\n",
      "|Saint Kitts and N...|      Basseterre|            Anguilla|      The Valley|  66.75784|\n",
      "|            Slovenia|       Ljubljana|             Croatia|          Zagreb|  73.54854|\n",
      "|        Sierra Leone|        Freetown|              Guinea|         Conakry|  76.80153|\n",
      "|               Samoa|            Apia|      American Samoa|       Pago Pago|  77.98973|\n",
      "|   US Virgin Islands|Charlotte Amalie|         Puerto Rico|        San Juan|  78.10275|\n",
      "|             Curaçao|      Willemstad|               Aruba|      Oranjestad|  80.72802|\n",
      "|          Montenegro|       Podgorica|             Albania|          Tirana|  82.12344|\n",
      "|Saint Vincent and...|       Kingstown|             Grenada|  Saint George's|  82.71789|\n",
      "|              Sweden|       Stockholm|       Aland Islands|       Mariehamn| 84.395325|\n",
      "|    Saint Barthelemy|        Gustavia| Antigua and Barbuda|    Saint John's|  84.46469|\n",
      "|   Wallis and Futuna|        Mata-Utu|      American Samoa|       Pago Pago| 85.569244|\n",
      "|               Qatar|            Doha|             Bahrain|          Manama|  88.92508|\n",
      "|    Saint Barthelemy|        Gustavia|          Montserrat|        Plymouth| 91.502174|\n",
      "|         Isle of Man|         Douglas|             Ireland|          Dublin|  92.03477|\n",
      "|         Saint Lucia|        Castries|            Dominica|          Roseau|  93.30143|\n",
      "|           Swaziland|         Mbabane|          Mozambique|          Maputo|  93.57105|\n",
      "|           Macedonia|          Skopje|             Albania|          Tirana|  96.04386|\n",
      "| Trinidad and Tobago|   Port of Spain|             Grenada|  Saint George's|  97.52088|\n",
      "|         Switzerland|            Bern|       Liechtenstein|           Vaduz|  97.98261|\n",
      "|          Montenegro|       Podgorica|              Kosovo|        Pristina|  98.29343|\n",
      "|         Puerto Rico|        San Juan|British Virgin Is...|       Road Town|  98.52055|\n",
      "|                Togo|            Lome|               Benin|      Porto-Novo|  99.50081|\n",
      "|        Sint Maarten|     Philipsburg| Antigua and Barbuda|    Saint John's|  99.61824|\n",
      "|            Slovakia|      Bratislava|             Hungary|        Budapest| 101.92395|\n",
      "|British Virgin Is...|       Road Town|        Saint Martin|         Marigot|103.568275|\n",
      "|British Virgin Is...|       Road Town|            Anguilla|      The Valley| 103.82579|\n",
      "| Antigua and Barbuda|    Saint John's|        Saint Martin|         Marigot| 104.55067|\n",
      "|        Sint Maarten|     Philipsburg|          Montserrat|        Plymouth|105.390526|\n",
      "|           Lithuania|         Vilnius|             Belarus|           Minsk|105.933075|\n",
      "|                Togo|            Lome|               Ghana|           Accra| 106.04211|\n",
      "|             Georgia|         Tbilisi|             Armenia|         Yerevan| 106.10116|\n",
      "|           Macedonia|          Skopje|            Bulgaria|           Sofia| 107.34806|\n",
      "|        Sint Maarten|     Philipsburg|British Virgin Is...|       Road Town| 107.63958|\n",
      "|         Netherlands|       Amsterdam|             Belgium|        Brussels| 107.81839|\n",
      "|Saint Vincent and...|       Kingstown|            Barbados|      Bridgetown|107.828445|\n",
      "|          Montenegro|       Podgorica|Bosnia and Herzeg...|        Sarajevo| 107.86829|\n",
      "|           Guatemala|  Guatemala City|         El Salvador|    San Salvador| 108.50238|\n",
      "|              Rwanda|          Kigali|             Burundi|       Bujumbura| 108.69227|\n",
      "|               Syria|        Damascus|              Jordan|           Amman| 108.92437|\n",
      "| Antigua and Barbuda|    Saint John's|            Anguilla|      The Valley| 109.46018|\n",
      "|              Kosovo|        Pristina|            Bulgaria|           Sofia|109.509964|\n",
      "|          Montserrat|        Plymouth|        Saint Martin|         Marigot| 110.37459|\n",
      "|          Montserrat|        Plymouth|            Dominica|          Roseau|110.529305|\n",
      "|         Saint Lucia|        Castries|            Barbados|      Bridgetown| 111.73278|\n",
      "|             Senegal|           Dakar|          The Gambia|          Banjul|113.608665|\n",
      "|          Montenegro|       Podgorica|           Macedonia|          Skopje| 115.11258|\n",
      "|              Kosovo|        Pristina|             Albania|          Tirana|116.240814|\n",
      "|          Luxembourg|      Luxembourg|             Belgium|        Brussels| 116.27619|\n",
      "|          Montserrat|        Plymouth|            Anguilla|      The Valley| 117.91456|\n",
      "|         South Korea|           Seoul|         North Korea|       Pyongyang| 121.36159|\n",
      "|    Saint Barthelemy|        Gustavia|British Virgin Is...|       Road Town| 121.81184|\n",
      "|              Serbia|        Belgrade|Bosnia and Herzeg...|        Sarajevo| 122.91027|\n",
      "|   US Virgin Islands|Charlotte Amalie|        Saint Martin|         Marigot| 123.15083|\n",
      "|   US Virgin Islands|Charlotte Amalie|            Anguilla|      The Valley|  124.0745|\n",
      "|   US Virgin Islands|Charlotte Amalie|        Sint Maarten|     Philipsburg|  126.9878|\n",
      "|            Dominica|          Roseau| Antigua and Barbuda|    Saint John's| 128.44437|\n",
      "|       Guinea-Bissau|          Bissau|          The Gambia|          Banjul|  128.4617|\n",
      "|             Lebanon|          Beirut|              Jordan|           Amman| 134.46103|\n",
      "|               Syria|        Damascus|           Palestine|       Jerusalem| 134.66235|\n",
      "|               Syria|        Damascus|              Israel|       Jerusalem| 134.66235|\n",
      "|             Hungary|        Budapest|             Austria|          Vienna|  135.2674|\n",
      "|            Honduras|     Tegucigalpa|         El Salvador|    San Salvador| 136.00528|\n",
      "|Northern Mariana ...|          Saipan|                Guam|         Hagatna| 137.27525|\n",
      "|          San Marino|      San Marino|        Vatican City|    Vatican City| 140.36879|\n",
      "|          San Marino|      San Marino|               Italy|            Rome| 140.39934|\n",
      "|   US Virgin Islands|Charlotte Amalie|    Saint Barthelemy|        Gustavia| 140.71384|\n",
      "|         Saint Lucia|        Castries|             Grenada|  Saint George's| 143.26266|\n",
      "+--------------------+----------------+--------------------+----------------+----------+\n",
      "only showing top 100 rows\n",
      "\n"
     ]
    },
    {
     "name": "stderr",
     "output_type": "stream",
     "text": [
      "                                                                                \r"
     ]
    },
    {
     "name": "stdout",
     "output_type": "stream",
     "text": [
      "22/10/20 14:50:45 WARN HeartbeatReceiver: Removing executor driver with no recent heartbeats: 876634 ms exceeds timeout 120000 ms\n",
      "22/10/20 14:50:45 WARN SparkContext: Killing executors is not supported by current scheduler.\n"
     ]
    }
   ],
   "source": [
    "df = spark.read.csv('country-capitals.csv', header=True)\n",
    "df = df.withColumn(\"idx\", F.monotonically_increasing_id())\n",
    "\n",
    "df = df.alias('left').join(df.alias('right'), F.col('left.idx') > F.col('right.idx')).select(\n",
    "    F.col('left.CountryName'), \n",
    "    F.col('left.CapitalName'), \n",
    "    F.col('right.CountryName'), \n",
    "    F.col('right.CapitalName'),\n",
    "    geodesic_udf(F.col('left.CapitalLatitude'), F.col('left.CapitalLongitude'), F.col('right.CapitalLatitude'), F.col('right.CapitalLongitude')).alias('distance')\n",
    ").orderBy(F.col('distance'))\n",
    "df.show(100)"
   ]
  }
 ],
 "metadata": {
  "kernelspec": {
   "display_name": "Python 3.10.6 ('venv': venv)",
   "language": "python",
   "name": "python3"
  },
  "language_info": {
   "codemirror_mode": {
    "name": "ipython",
    "version": 3
   },
   "file_extension": ".py",
   "mimetype": "text/x-python",
   "name": "python",
   "nbconvert_exporter": "python",
   "pygments_lexer": "ipython3",
   "version": "3.10.6"
  },
  "orig_nbformat": 4,
  "vscode": {
   "interpreter": {
    "hash": "b7d469d51b8c114d191277ee3db046fb0197da51aa7d0ea8fc94fbd5c5b74882"
   }
  }
 },
 "nbformat": 4,
 "nbformat_minor": 2
}
